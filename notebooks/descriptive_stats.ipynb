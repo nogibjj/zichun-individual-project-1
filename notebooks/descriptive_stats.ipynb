{
 "cells": [
  {
   "cell_type": "code",
   "execution_count": null,
   "metadata": {},
   "outputs": [],
   "source": [
    "import pandas as pd\n",
    "import polars as pl"
   ]
  },
  {
   "cell_type": "code",
   "execution_count": null,
   "metadata": {},
   "outputs": [],
   "source": [
    "# Pandas descriptive stats\n",
    "pandas_data = pd.read_csv('../data/medals_total.csv')\n",
    "pandas_summary = pandas_data['Total'].describe()"
   ]
  },
  {
   "cell_type": "code",
   "execution_count": null,
   "metadata": {},
   "outputs": [],
   "source": [
    "# Polars descriptive stats\n",
    "polars_data = pl.read_csv('../data/medals_total.csv')\n",
    "polars_summary = polars_data.select([\n",
    "    pl.col('Total').mean().alias('mean'),\n",
    "    pl.col('Total').median().alias('median'),\n",
    "    pl.col('Total').std().alias('std')\n",
    "])"
   ]
  },
  {
   "cell_type": "code",
   "execution_count": null,
   "metadata": {},
   "outputs": [],
   "source": [
    "pandas_summary, polars_summary"
   ]
  }
 ],
 "metadata": {
  "language_info": {
   "name": "python"
  }
 },
 "nbformat": 4,
 "nbformat_minor": 2
}
