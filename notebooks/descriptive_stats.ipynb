{
 "cells": [
  {
   "cell_type": "code",
   "execution_count": 8,
   "metadata": {},
   "outputs": [
    {
     "ename": "ModuleNotFoundError",
     "evalue": "No module named 'polars'",
     "output_type": "error",
     "traceback": [
      "\u001b[0;31m---------------------------------------------------------------------------\u001b[0m",
      "\u001b[0;31mModuleNotFoundError\u001b[0m                       Traceback (most recent call last)",
      "Cell \u001b[0;32mIn[8], line 2\u001b[0m\n\u001b[1;32m      1\u001b[0m \u001b[38;5;28;01mimport\u001b[39;00m \u001b[38;5;21;01mpandas\u001b[39;00m \u001b[38;5;28;01mas\u001b[39;00m \u001b[38;5;21;01mpd\u001b[39;00m\n\u001b[0;32m----> 2\u001b[0m \u001b[38;5;28;01mimport\u001b[39;00m \u001b[38;5;21;01mpolars\u001b[39;00m \u001b[38;5;28;01mas\u001b[39;00m \u001b[38;5;21;01mpl\u001b[39;00m\n\u001b[1;32m      3\u001b[0m \u001b[38;5;28;01mimport\u001b[39;00m \u001b[38;5;21;01mmatplotlib\u001b[39;00m\u001b[38;5;21;01m.\u001b[39;00m\u001b[38;5;21;01mpyplot\u001b[39;00m \u001b[38;5;28;01mas\u001b[39;00m \u001b[38;5;21;01mplt\u001b[39;00m\n",
      "\u001b[0;31mModuleNotFoundError\u001b[0m: No module named 'polars'"
     ]
    }
   ],
   "source": [
    "import pandas as pd\n",
    "import polars as pl\n",
    "import matplotlib.pyplot as plt"
   ]
  },
  {
   "cell_type": "code",
   "execution_count": 1,
   "metadata": {},
   "outputs": [
    {
     "ename": "NameError",
     "evalue": "name 'pd' is not defined",
     "output_type": "error",
     "traceback": [
      "\u001b[0;31m---------------------------------------------------------------------------\u001b[0m",
      "\u001b[0;31mNameError\u001b[0m                                 Traceback (most recent call last)",
      "Cell \u001b[0;32mIn[1], line 2\u001b[0m\n\u001b[1;32m      1\u001b[0m \u001b[38;5;66;03m# Pandas descriptive stats\u001b[39;00m\n\u001b[0;32m----> 2\u001b[0m pandas_data \u001b[38;5;241m=\u001b[39m pd\u001b[38;5;241m.\u001b[39mread_csv(\u001b[38;5;124m'\u001b[39m\u001b[38;5;124m../data/medals_total.csv\u001b[39m\u001b[38;5;124m'\u001b[39m)\n\u001b[1;32m      3\u001b[0m pandas_summary \u001b[38;5;241m=\u001b[39m pandas_data[\u001b[38;5;124m'\u001b[39m\u001b[38;5;124mTotal\u001b[39m\u001b[38;5;124m'\u001b[39m]\u001b[38;5;241m.\u001b[39mdescribe()\n",
      "\u001b[0;31mNameError\u001b[0m: name 'pd' is not defined"
     ]
    }
   ],
   "source": [
    "# For Jupyter inline visualization\n",
    "%matplotlib inline\n",
    "\n",
    "# Load the dataset using Pandas\n",
    "pandas_data = pd.read_csv('../data/medals_total.csv')\n",
    "\n",
    "# Load the dataset using Polars\n",
    "polars_data = pl.read_csv('../data/medals_total.csv')"
   ]
  },
  {
   "cell_type": "code",
   "execution_count": null,
   "metadata": {},
   "outputs": [],
   "source": [
    "\n",
    "# --- Pandas Section ---\n",
    "print(\"# --- Pandas Summary Statistics ---\")\n",
    "# Generate summary statistics using Pandas\n",
    "pandas_summary_stats = pandas_data['Total'].describe()\n",
    "print(pandas_summary_stats)\n",
    "\n",
    "# Sort the data by 'Total' column in descending order and take the top 50 countries\n",
    "pandas_top_countries = pandas_data.sort_values(by='Total', ascending=False).head(50)\n",
    "\n",
    "# Create a bar chart for total medals by top 50 countries using Pandas\n",
    "plt.figure(figsize=(10, 6))\n",
    "plt.bar(pandas_top_countries['country'], pandas_top_countries['Total'], color='skyblue')\n",
    "plt.title('Total Medals by Top 50 Countries (Pandas)')\n",
    "plt.xlabel('Country')\n",
    "plt.ylabel('Total Medals')\n",
    "plt.xticks(rotation=90)\n",
    "plt.tight_layout()\n",
    "\n",
    "# Show the plot\n",
    "plt.show()"
   ]
  },
  {
   "cell_type": "code",
   "execution_count": null,
   "metadata": {},
   "outputs": [],
   "source": [
    "\n",
    "# --- Polars Section ---\n",
    "print(\"# --- Polars Summary Statistics ---\")\n",
    "# Generate summary statistics using Polars\n",
    "polars_summary_stats = polars_data.select([\n",
    "    pl.col(\"Total\").mean().alias(\"mean\"),\n",
    "    pl.col(\"Total\").median().alias(\"median\"),\n",
    "    pl.col(\"Total\").std().alias(\"std\"),\n",
    "    pl.col(\"Total\").min().alias(\"min\"),\n",
    "    pl.col(\"Total\").max().alias(\"max\"),\n",
    "    pl.col(\"Total\").quantile(0.25).alias(\"25%\"),\n",
    "    pl.col(\"Total\").quantile(0.75).alias(\"75%\")\n",
    "])\n",
    "print(polars_summary_stats)\n",
    "\n",
    "# Sort the data by 'Total' column in descending order and take the top 50 countries\n",
    "polars_top_countries = polars_data.sort(\"Total\", reverse=True).head(50)\n",
    "\n",
    "# Convert Polars dataframe to Pandas for visualization\n",
    "polars_top_countries_pd = polars_top_countries.to_pandas()\n",
    "\n",
    "# Create a bar chart for total medals by top 50 countries using Polars\n",
    "plt.figure(figsize=(10, 6))\n",
    "plt.bar(polars_top_countries_pd['country'], polars_top_countries_pd['Total'], color='orange')\n",
    "plt.title('Total Medals by Top 50 Countries (Polars)')\n",
    "plt.xlabel('Country')\n",
    "plt.ylabel('Total Medals')\n",
    "plt.xticks(rotation=90)\n",
    "plt.tight_layout()\n",
    "\n",
    "# Show the plot\n",
    "plt.show()"
   ]
  }
 ],
 "metadata": {
  "kernelspec": {
   "display_name": "base",
   "language": "python",
   "name": "python3"
  },
  "language_info": {
   "codemirror_mode": {
    "name": "ipython",
    "version": 3
   },
   "file_extension": ".py",
   "mimetype": "text/x-python",
   "name": "python",
   "nbconvert_exporter": "python",
   "pygments_lexer": "ipython3",
   "version": "3.11.4"
  }
 },
 "nbformat": 4,
 "nbformat_minor": 2
}
